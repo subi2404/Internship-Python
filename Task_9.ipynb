{
  "nbformat": 4,
  "nbformat_minor": 0,
  "metadata": {
    "colab": {
      "provenance": [],
      "authorship_tag": "ABX9TyN9UMxObv9rna/iwPcfQbpH",
      "include_colab_link": true
    },
    "kernelspec": {
      "name": "python3",
      "display_name": "Python 3"
    },
    "language_info": {
      "name": "python"
    }
  },
  "cells": [
    {
      "cell_type": "markdown",
      "metadata": {
        "id": "view-in-github",
        "colab_type": "text"
      },
      "source": [
        "<a href=\"https://colab.research.google.com/github/subi2404/Internship-Python/blob/main/Task_9.ipynb\" target=\"_parent\"><img src=\"https://colab.research.google.com/assets/colab-badge.svg\" alt=\"Open In Colab\"/></a>"
      ]
    },
    {
      "cell_type": "markdown",
      "source": [
        "Creating,updating and deleting a file"
      ],
      "metadata": {
        "id": "NYQehZmQQXuc"
      }
    },
    {
      "cell_type": "code",
      "execution_count": 8,
      "metadata": {
        "colab": {
          "base_uri": "https://localhost:8080/"
        },
        "id": "h2Jym20uo0kl",
        "outputId": "97ed75ff-6f42-4b8f-919a-be57ca767743"
      },
      "outputs": [
        {
          "output_type": "stream",
          "name": "stdout",
          "text": [
            "File 'Ex.txt' created successfully.\n",
            "Content of 'Ex.txt': Hello, this is the initial content.\n",
            "\n"
          ]
        }
      ],
      "source": [
        "import os\n",
        "\n",
        "def create_file(file_name, content):\n",
        "    try:\n",
        "        with open(file_name, 'w') as file:\n",
        "            file.write(content)\n",
        "        print(f\"File '{file_name}' created successfully.\")\n",
        "    except Exception as e:\n",
        "        print(f\"Error creating file '{file_name}': {e}\")\n",
        "\n",
        "def read_file(file_name):\n",
        "    try:\n",
        "        with open(file_name, 'r') as file:\n",
        "            content = file.read()\n",
        "        print(f\"Content of '{file_name}': {content}\")\n",
        "    except FileNotFoundError:\n",
        "        print(f\"File '{file_name}' not found.\")\n",
        "    except Exception as e:\n",
        "        print(f\"Error reading file '{file_name}': {e}\")\n",
        "\n",
        "\n",
        "file_name = \"Ex.txt\"\n",
        "create_file(file_name, \"Hello, this is the initial content.\\n\")\n",
        "\n",
        "read_file(file_name)\n",
        "\n",
        "\n",
        "\n"
      ]
    },
    {
      "cell_type": "code",
      "source": [
        "def update_file(file_name, new_content):\n",
        "    try:\n",
        "        with open(file_name, 'a') as file:\n",
        "            file.write(new_content)\n",
        "        print(f\"File '{file_name}' updated successfully.\")\n",
        "    except Exception as e:\n",
        "        print(f\"Error updating file '{file_name}': {e}\")\n",
        "update_file(file_name, \"This is the updated content.\\n\")\n",
        "\n",
        "read_file(file_name)\n"
      ],
      "metadata": {
        "colab": {
          "base_uri": "https://localhost:8080/"
        },
        "id": "WQJDbP_DQlnZ",
        "outputId": "59c2f9c3-5642-4066-c723-7f17caa6c608"
      },
      "execution_count": 6,
      "outputs": [
        {
          "output_type": "stream",
          "name": "stdout",
          "text": [
            "File 'Ex.txt' updated successfully.\n",
            "Content of 'Ex.txt': Hello, this is the initial content.\n",
            "This is the updated content.\n",
            "\n"
          ]
        }
      ]
    },
    {
      "cell_type": "code",
      "source": [
        "def delete_file(file_name):\n",
        "    try:\n",
        "        os.remove(file_name)\n",
        "        print(f\"File '{file_name}' deleted successfully.\")\n",
        "    except FileNotFoundError:\n",
        "        print(f\"File '{file_name}' not found.\")\n",
        "    except Exception as e:\n",
        "        print(f\"Error deleting file '{file_name}': {e}\")\n",
        "delete_file(file_name)\n"
      ],
      "metadata": {
        "colab": {
          "base_uri": "https://localhost:8080/"
        },
        "id": "-LqQ5vcvQMiw",
        "outputId": "7df11efe-d940-4df4-f85d-30873a272194"
      },
      "execution_count": 7,
      "outputs": [
        {
          "output_type": "stream",
          "name": "stdout",
          "text": [
            "File 'Ex.txt' deleted successfully.\n"
          ]
        }
      ]
    }
  ]
}