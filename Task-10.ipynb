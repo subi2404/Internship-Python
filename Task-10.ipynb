{
 "cells": [
  {
   "cell_type": "markdown",
   "id": "1c263f98",
   "metadata": {},
   "source": [
    "# Text to speech and saving it has audio file"
   ]
  },
  {
   "cell_type": "code",
   "execution_count": 1,
   "id": "1995e75c",
   "metadata": {},
   "outputs": [
    {
     "name": "stdout",
     "output_type": "stream",
     "text": [
      "Hello, How are you?\n",
      "hello how are you\n"
     ]
    }
   ],
   "source": [
    "import pyttsx3\n",
    "import speech_recognition as sr\n",
    "\n",
    "engine = pyttsx3.init()\n",
    "engine.setProperty('rate', 150)    \n",
    "engine.setProperty('volume', 0.9)  \n",
    "\n",
    "text = input().strip()\n",
    "\n",
    "engine.save_to_file(text, 'output.mp3')\n",
    "engine.runAndWait()\n",
    "\n",
    "r = sr.Recognizer()\n",
    "\n",
    "with sr.AudioFile('output.mp3') as source:\n",
    "    audio_data = r.record(source)\n",
    "    text = r.recognize_google(audio_data)\n",
    "    print(text)"
   ]
  }
 ],
 "metadata": {
  "kernelspec": {
   "display_name": "Python 3 (ipykernel)",
   "language": "python",
   "name": "python3"
  },
  "language_info": {
   "codemirror_mode": {
    "name": "ipython",
    "version": 3
   },
   "file_extension": ".py",
   "mimetype": "text/x-python",
   "name": "python",
   "nbconvert_exporter": "python",
   "pygments_lexer": "ipython3",
   "version": "3.11.3"
  }
 },
 "nbformat": 4,
 "nbformat_minor": 5
}
