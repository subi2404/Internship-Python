{
  "nbformat": 4,
  "nbformat_minor": 0,
  "metadata": {
    "colab": {
      "provenance": [],
      "authorship_tag": "ABX9TyPEd5TITD2CRaK6Wo/8NNNe",
      "include_colab_link": true
    },
    "kernelspec": {
      "name": "python3",
      "display_name": "Python 3"
    },
    "language_info": {
      "name": "python"
    }
  },
  "cells": [
    {
      "cell_type": "markdown",
      "metadata": {
        "id": "view-in-github",
        "colab_type": "text"
      },
      "source": [
        "<a href=\"https://colab.research.google.com/github/subi2404/Internship-Python/blob/main/Task_1.ipynb\" target=\"_parent\"><img src=\"https://colab.research.google.com/assets/colab-badge.svg\" alt=\"Open In Colab\"/></a>"
      ]
    },
    {
      "cell_type": "markdown",
      "source": [
        "Copying content from one file to another file"
      ],
      "metadata": {
        "id": "YbUexikEKE9s"
      }
    },
    {
      "cell_type": "markdown",
      "source": [
        "Method 1:Using File handling to read and append"
      ],
      "metadata": {
        "id": "gVFJD4zZGal4"
      }
    },
    {
      "cell_type": "code",
      "execution_count": 6,
      "metadata": {
        "id": "1NXFhx7lngsZ"
      },
      "outputs": [],
      "source": [
        "with open('First.txt','r') as firstfile, open('second.txt','a') as secondfile: # open both files\n",
        "   for line in firstfile: # read content from first file\n",
        "        secondfile.write(line) # append content to second file\n"
      ]
    },
    {
      "cell_type": "markdown",
      "source": [
        "Method 2: Using File handling to read and write"
      ],
      "metadata": {
        "id": "TheE7sTpGp0b"
      }
    },
    {
      "cell_type": "code",
      "source": [
        "with open('First.txt','r') as firstfile, open('second.txt','w') as secondfile:\n",
        "\tfor line in firstfile:\n",
        "\t\t\tsecondfile.write(line)\n"
      ],
      "metadata": {
        "id": "2PVrHs2eoBr2"
      },
      "execution_count": null,
      "outputs": []
    },
    {
      "cell_type": "markdown",
      "source": [
        "Method 3: Using shutil.copy() module"
      ],
      "metadata": {
        "id": "49V0QMKHGwD3"
      }
    },
    {
      "cell_type": "code",
      "source": [
        "import shutil # import module\n",
        "shutil.copyfile('First.txt','second.txt') # use copyfile()\n"
      ],
      "metadata": {
        "colab": {
          "base_uri": "https://localhost:8080/",
          "height": 36
        },
        "id": "PqKFGB6GoKxw",
        "outputId": "4726cc60-82b1-4bbb-cd5d-0dd20269d3df"
      },
      "execution_count": null,
      "outputs": [
        {
          "output_type": "execute_result",
          "data": {
            "text/plain": [
              "'second.txt'"
            ],
            "application/vnd.google.colaboratory.intrinsic+json": {
              "type": "string"
            }
          },
          "metadata": {},
          "execution_count": 5
        }
      ]
    }
  ]
}