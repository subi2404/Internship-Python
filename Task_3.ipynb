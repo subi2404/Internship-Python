{
  "nbformat": 4,
  "nbformat_minor": 0,
  "metadata": {
    "colab": {
      "provenance": [],
      "authorship_tag": "ABX9TyNKmFTNjJqYaRSxT6OmAEtU",
      "include_colab_link": true
    },
    "kernelspec": {
      "name": "python3",
      "display_name": "Python 3"
    },
    "language_info": {
      "name": "python"
    }
  },
  "cells": [
    {
      "cell_type": "markdown",
      "metadata": {
        "id": "view-in-github",
        "colab_type": "text"
      },
      "source": [
        "<a href=\"https://colab.research.google.com/github/subi2404/Internship-Python/blob/main/Task_3.ipynb\" target=\"_parent\"><img src=\"https://colab.research.google.com/assets/colab-badge.svg\" alt=\"Open In Colab\"/></a>"
      ]
    },
    {
      "cell_type": "markdown",
      "source": [
        "Simple Calculator"
      ],
      "metadata": {
        "id": "32yNPimkLTEr"
      }
    },
    {
      "cell_type": "code",
      "source": [
        "def add(num1, num2):\n",
        "\treturn num1 + num2\n",
        "\n",
        "def subtract(num1, num2):\n",
        "\treturn num1 - num2\n",
        "\n",
        "def multiply(num1, num2):\n",
        "\treturn num1 * num2\n",
        "\n",
        "def divide(num1, num2):\n",
        "\treturn num1 / num2\n",
        "\n",
        "print(\"Please select operation -\\n\" \\\n",
        "\t\t\"1. Add\\n\" \\\n",
        "\t\t\"2. Subtract\\n\" \\\n",
        "\t\t\"3. Multiply\\n\" \\\n",
        "\t\t\"4. Divide\\n\")\n",
        "\n",
        "select = int(input(\"Select operations form 1, 2, 3, 4 :\"))\n",
        "number_1 = int(input(\"Enter first number: \"))\n",
        "number_2 = int(input(\"Enter second number: \"))\n",
        "\n",
        "if select == 1:\n",
        "\tprint(number_1, \"+\", number_2, \"=\", add(number_1, number_2))\n",
        "elif select == 2:\n",
        "\tprint(number_1, \"-\", number_2, \"=\", subtract(number_1, number_2))\n",
        "elif select == 3:\n",
        "\tprint(number_1, \"*\", number_2, \"=\", multiply(number_1, number_2))\n",
        "elif select == 4:\n",
        "\tprint(number_1, \"/\", number_2, \"=\", divide(number_1, number_2))\n",
        "else:\n",
        "\tprint(\"Invalid input\")\n"
      ],
      "metadata": {
        "colab": {
          "base_uri": "https://localhost:8080/"
        },
        "id": "7TZRuPBnOxIT",
        "outputId": "b40098bd-c66c-424a-cf35-b11b84d0a1e3"
      },
      "execution_count": null,
      "outputs": [
        {
          "output_type": "stream",
          "name": "stdout",
          "text": [
            "Please select operation -\n",
            "1. Add\n",
            "2. Subtract\n",
            "3. Multiply\n",
            "4. Divide\n",
            "\n",
            "Select operations form 1, 2, 3, 4 :4\n",
            "Enter first number: 46\n",
            "Enter second number: 3\n",
            "46 / 3 = 15.333333333333334\n"
          ]
        }
      ]
    }
  ]
}