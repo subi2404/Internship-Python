{
  "nbformat": 4,
  "nbformat_minor": 0,
  "metadata": {
    "colab": {
      "provenance": [],
      "authorship_tag": "ABX9TyP/Cq0XM/zgHp0V+b03OSFY",
      "include_colab_link": true
    },
    "kernelspec": {
      "name": "python3",
      "display_name": "Python 3"
    },
    "language_info": {
      "name": "python"
    }
  },
  "cells": [
    {
      "cell_type": "markdown",
      "metadata": {
        "id": "view-in-github",
        "colab_type": "text"
      },
      "source": [
        "<a href=\"https://colab.research.google.com/github/subi2404/Internship-Python/blob/main/Task_7.ipynb\" target=\"_parent\"><img src=\"https://colab.research.google.com/assets/colab-badge.svg\" alt=\"Open In Colab\"/></a>"
      ]
    },
    {
      "cell_type": "markdown",
      "source": [
        "Concatinate the input data"
      ],
      "metadata": {
        "id": "9z-XiaXUOt6N"
      }
    },
    {
      "cell_type": "code",
      "execution_count": null,
      "metadata": {
        "colab": {
          "base_uri": "https://localhost:8080/"
        },
        "id": "6w-9jJRrTZpT",
        "outputId": "984b074f-57a0-4649-b0b5-51c511e4a68e"
      },
      "outputs": [
        {
          "output_type": "stream",
          "name": "stdout",
          "text": [
            "Enter the first set of data: Hello\n",
            "Enter the second set of data: World\n",
            "\n",
            "Concatenated Data: Hello World\n"
          ]
        }
      ],
      "source": [
        "# Take user input for data\n",
        "data1 = input(\"Enter the first set of data: \")\n",
        "data2 = input(\"Enter the second set of data: \")\n",
        "\n",
        "# Concatenate the data\n",
        "concatenated_data = data1 +\" \"+ data2\n",
        "\n",
        "# Display the result\n",
        "print(\"\\nConcatenated Data:\", concatenated_data)\n"
      ]
    }
  ]
}