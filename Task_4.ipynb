{
  "nbformat": 4,
  "nbformat_minor": 0,
  "metadata": {
    "colab": {
      "provenance": [],
      "authorship_tag": "ABX9TyOdru6udqJNMRu3CiK+RPHU",
      "include_colab_link": true
    },
    "kernelspec": {
      "name": "python3",
      "display_name": "Python 3"
    },
    "language_info": {
      "name": "python"
    }
  },
  "cells": [
    {
      "cell_type": "markdown",
      "metadata": {
        "id": "view-in-github",
        "colab_type": "text"
      },
      "source": [
        "<a href=\"https://colab.research.google.com/github/subi2404/Internship-Python/blob/main/Task_4.ipynb\" target=\"_parent\"><img src=\"https://colab.research.google.com/assets/colab-badge.svg\" alt=\"Open In Colab\"/></a>"
      ]
    },
    {
      "cell_type": "markdown",
      "source": [
        "Alphabets with ASCII values"
      ],
      "metadata": {
        "id": "OAaBbfZPLt7t"
      }
    },
    {
      "cell_type": "code",
      "execution_count": null,
      "metadata": {
        "id": "cnItfPwZPFjx",
        "colab": {
          "base_uri": "https://localhost:8080/"
        },
        "outputId": "bed2aa96-6a1b-4a7d-adb2-19bf303f4320"
      },
      "outputs": [
        {
          "output_type": "stream",
          "name": "stdout",
          "text": [
            "A - 65\ta - 97\n",
            "B - 66\tb - 98\n",
            "C - 67\tc - 99\n",
            "D - 68\td - 100\n",
            "E - 69\te - 101\n",
            "F - 70\tf - 102\n",
            "G - 71\tg - 103\n",
            "H - 72\th - 104\n",
            "I - 73\ti - 105\n",
            "J - 74\tj - 106\n",
            "K - 75\tk - 107\n",
            "L - 76\tl - 108\n",
            "M - 77\tm - 109\n",
            "N - 78\tn - 110\n",
            "O - 79\to - 111\n",
            "P - 80\tp - 112\n",
            "Q - 81\tq - 113\n",
            "R - 82\tr - 114\n",
            "S - 83\ts - 115\n",
            "T - 84\tt - 116\n",
            "U - 85\tu - 117\n",
            "V - 86\tv - 118\n",
            "W - 87\tw - 119\n",
            "X - 88\tx - 120\n",
            "Y - 89\ty - 121\n",
            "Z - 90\tz - 122\n"
          ]
        }
      ],
      "source": [
        "for char_upper, char_lower in zip(range(ord('A'), ord('Z') + 1), range(ord('a'), ord('z') + 1)):\n",
        "    print(f\"{chr(char_upper)} - {char_upper}\\t{chr(char_lower)} - {char_lower}\")"
      ]
    }
  ]
}