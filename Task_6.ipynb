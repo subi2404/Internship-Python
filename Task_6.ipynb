{
  "nbformat": 4,
  "nbformat_minor": 0,
  "metadata": {
    "colab": {
      "provenance": [],
      "authorship_tag": "ABX9TyNFyS0NM1evA2DftUFSq5aV",
      "include_colab_link": true
    },
    "kernelspec": {
      "name": "python3",
      "display_name": "Python 3"
    },
    "language_info": {
      "name": "python"
    }
  },
  "cells": [
    {
      "cell_type": "markdown",
      "metadata": {
        "id": "view-in-github",
        "colab_type": "text"
      },
      "source": [
        "<a href=\"https://colab.research.google.com/github/subi2404/Internship-Python/blob/main/Task_6.ipynb\" target=\"_parent\"><img src=\"https://colab.research.google.com/assets/colab-badge.svg\" alt=\"Open In Colab\"/></a>"
      ]
    },
    {
      "cell_type": "markdown",
      "source": [
        "Spliting input data based on delimiter"
      ],
      "metadata": {
        "id": "AABD3yVmOdwU"
      }
    },
    {
      "cell_type": "code",
      "source": [
        "def split_data(data, delimiter):\n",
        "    return data.split(delimiter)\n",
        "\n",
        "# Take user input for data and delimiter\n",
        "input_data = input(\"Enter a string of data: \")\n",
        "delimiter = input(\"Enter the delimiter: \")\n",
        "\n",
        "# Split the data\n",
        "split_result = split_data(input_data, delimiter)\n",
        "\n",
        "# Display the results\n",
        "print(f\"\\nOriginal Data: {input_data}\")\n",
        "print(f\"Split Data: {split_result}\")\n",
        "\n"
      ],
      "metadata": {
        "colab": {
          "base_uri": "https://localhost:8080/"
        },
        "id": "77Enc4GdTDX0",
        "outputId": "eaf4731e-ebea-4dd8-a640-f5369ce9fcd1"
      },
      "execution_count": null,
      "outputs": [
        {
          "output_type": "stream",
          "name": "stdout",
          "text": [
            "Enter a string of data: subh345@gmail.com\n",
            "Enter the delimiter: @\n",
            "\n",
            "Original Data: subh345@gmail.com\n",
            "Split Data: ['subh345', 'gmail.com']\n"
          ]
        }
      ]
    }
  ]
}